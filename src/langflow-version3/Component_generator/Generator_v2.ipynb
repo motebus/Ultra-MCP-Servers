{
 "cells": [
  {
   "cell_type": "markdown",
   "metadata": {},
   "source": [
    "Import Library"
   ]
  },
  {
   "cell_type": "code",
   "execution_count": 54,
   "metadata": {},
   "outputs": [],
   "source": [
    "import pandas as pd\n",
    "import json\n",
    "from openai import OpenAI\n",
    "import os"
   ]
  },
  {
   "cell_type": "markdown",
   "metadata": {},
   "source": [
    "Test excel"
   ]
  },
  {
   "cell_type": "code",
   "execution_count": 2,
   "metadata": {},
   "outputs": [
    {
     "name": "stdout",
     "output_type": "stream",
     "text": [
      "    Id                 Name Difficulty                      Category  \\\n",
      "0    1   Sum of two numbers       Easy                          Math   \n",
      "1    2                 Echo       Easy            Message Processing   \n",
      "2    3           Chat Input     Medium               Chat Components   \n",
      "3    4           Text Input       Easy            Message Processing   \n",
      "4    5          Chat Output     Medium               Chat Components   \n",
      "5    6          Text Output       Easy            Message Processing   \n",
      "6    7   Sub of two numbers       Easy                          Math   \n",
      "7    8  Sum of three number       Easy                          Math   \n",
      "8    9                  URL       Hard                  Web Scraping   \n",
      "9   10                 File     Medium              Document Loading   \n",
      "10  11               Prompt       Easy                        Prompt   \n",
      "11  12           Parse Data     Meduim               Data Processing   \n",
      "12  13      Data to Message     Meduim               Data Processing   \n",
      "13  14         Current Date       Easy               Data Processing   \n",
      "14  15         ID Generator       Easy               Data Generation   \n",
      "15  16         Tavily Seach       Hard                Tavily, search   \n",
      "16  17     Youtube Playlist       Hard      Youtube, search,playlist   \n",
      "17  18      YouTube Channel       Hard  Youtube, search,channel data   \n",
      "18  19   YouTube Transcript       Hard    Youtube, search,transcript   \n",
      "19  20      YouTube Comment       Hard       Youtube, search,comment   \n",
      "\n",
      "                                          Python Code  \\\n",
      "0   from langflow.custom import Component\\nfrom la...   \n",
      "1   # from langflow.field_typing import Data\\nfrom...   \n",
      "2   from langflow.base.data.utils import IMG_FILE_...   \n",
      "3   from langflow.base.io.text import TextComponen...   \n",
      "4   from langflow.base.io.chat import ChatComponen...   \n",
      "5   from langflow.base.io.text import TextComponen...   \n",
      "6   from langflow.custom import Component\\nfrom la...   \n",
      "7   from langflow.custom import Component\\nfrom la...   \n",
      "8   import re\\n\\nfrom langchain_community.document...   \n",
      "9   from langflow.base.data import BaseFileCompone...   \n",
      "10  from langflow.base.prompts.api_utils import pr...   \n",
      "11  from langflow.custom import Component\\nfrom la...   \n",
      "12  from langflow.custom import Component\\nfrom la...   \n",
      "13  from datetime import datetime\\nfrom zoneinfo i...   \n",
      "14  import uuid\\nfrom typing import Any\\n\\nfrom ty...   \n",
      "15  import httpx\\nfrom loguru import logger\\n\\nfro...   \n",
      "16  from pytube import Playlist  # Ensure you have...   \n",
      "17  from typing import Any\\nfrom urllib.error impo...   \n",
      "18  import pandas as pd\\nimport youtube_transcript...   \n",
      "19  from contextlib import contextmanager\\n\\nimpor...   \n",
      "\n",
      "                                       Component JSON  \\\n",
      "0   {\"data\":{\"edges\":[],\"nodes\":[{\"data\":{\"node\":{...   \n",
      "1   {\"data\":{\"edges\":[],\"nodes\":[{\"data\":{\"node\":{...   \n",
      "2   {\"data\":{\"edges\":[],\"nodes\":[{\"data\":{\"node\":{...   \n",
      "3   {\"data\":{\"edges\":[],\"nodes\":[{\"data\":{\"node\":{...   \n",
      "4   {\"data\":{\"edges\":[],\"nodes\":[{\"data\":{\"node\":{...   \n",
      "5   {\"data\":{\"edges\":[],\"nodes\":[{\"data\":{\"node\":{...   \n",
      "6   {\"data\":{\"edges\":[],\"nodes\":[{\"data\":{\"node\":{...   \n",
      "7   {\"data\":{\"edges\":[],\"nodes\":[{\"data\":{\"node\":{...   \n",
      "8   {\"data\":{\"edges\":[],\"nodes\":[{\"data\":{\"node\":{...   \n",
      "9   {\"data\":{\"edges\":[],\"nodes\":[{\"data\":{\"node\":{...   \n",
      "10  {\"data\":{\"edges\":[],\"nodes\":[{\"data\":{\"descrip...   \n",
      "11  {\"data\":{\"edges\":[],\"nodes\":[{\"data\":{\"descrip...   \n",
      "12  {\"data\":{\"edges\":[],\"nodes\":[{\"data\":{\"descrip...   \n",
      "13  {\"data\":{\"edges\":[],\"nodes\":[{\"data\":{\"node\":{...   \n",
      "14  {\"data\":{\"edges\":[],\"nodes\":[{\"data\":{\"node\":{...   \n",
      "15  {\"data\":{\"edges\":[],\"nodes\":[{\"data\":{\"node\":{...   \n",
      "16  {\"data\":{\"edges\":[],\"nodes\":[{\"data\":{\"node\":{...   \n",
      "17  {\"data\":{\"edges\":[],\"nodes\":[{\"data\":{\"node\":{...   \n",
      "18  {\"data\":{\"edges\":[],\"nodes\":[{\"data\":{\"node\":{...   \n",
      "19  {\"data\":{\"edges\":[],\"nodes\":[{\"data\":{\"node\":{...   \n",
      "\n",
      "                                          Description  \\\n",
      "0   Takes two inputs and returns their sum as a ch...   \n",
      "1                        This is a echo Message Input   \n",
      "2   Get chat inputs from the Playground. Can accep...   \n",
      "3   Receives multiline text input and outputs it a...   \n",
      "4   Get chat inputs from the Playground. Can accep...   \n",
      "5           Display a chat message in the Playground.   \n",
      "6   Takes two inputs and returns their subtraction...   \n",
      "7   Takes three inputs and returns their sum as a ...   \n",
      "8          Load and retrive data from specified URLs.   \n",
      "9   Loads and processes text files, including thos...   \n",
      "10    Create a prompt template with dynamic variables   \n",
      "11  Convert Data objects into Messages using any {...   \n",
      "12  Converts Data objects into Message objects usi...   \n",
      "13  Returns the current date and time in the selec...   \n",
      "14               Generates a unique ID using uuid4().   \n",
      "15  Integrates with Tavily AI Search, an LLM-optim...   \n",
      "16  Extracts all video URLs from a given YouTube p...   \n",
      "17  Retrieves detailed information and statistics ...   \n",
      "18  Extracts spoken content from YouTube videos wi...   \n",
      "19  Retrieves and analyzes comments from YouTube v...   \n",
      "\n",
      "                                                 Tags  Num Input  \\\n",
      "0                          math, arithmetic, addition          2   \n",
      "1                                 message, echo, text          1   \n",
      "2                       chat,input,message,text,store          1   \n",
      "3                                text, message, input          1   \n",
      "4                      chat,output,message,text,store          1   \n",
      "5                               text, message, output          1   \n",
      "6                      math, arithmetic, subtraction           2   \n",
      "7                          math, arithmetic, addition          3   \n",
      "8                                                 NaN          2   \n",
      "9   File, Loader, Text processing, Multithreading,...          1   \n",
      "10  Prompt,Template,Dynamic variables, LLM, Text G...          2   \n",
      "11  Data Parsing, Text Conversion, Message Formatt...          3   \n",
      "12  Data Parsing, Text Conversion, Message Formatt...          3   \n",
      "13                 Time, Date, Timezone, Current Date          1   \n",
      "14                         UUID, Unique ID, Generator          1   \n",
      "15                Search Engine, RAG, LLM, Tavily API          2   \n",
      "16                YouTube, Playlist, Video Extraction          1   \n",
      "17              YouTube, API, DataFrame, Channel Info          2   \n",
      "18   YouTube, Transcripts, Text Processing, DataFrame          2   \n",
      "19         YouTube, Comments, API, NLP, Data Analysis          4   \n",
      "\n",
      "                                           Input type  Num Output  \\\n",
      "0                                             Message           1   \n",
      "1                                             Message           1   \n",
      "2   1 primary input Message (but multiple optional...           1   \n",
      "3                                             Message           1   \n",
      "4   1 primary input Message (but multiple optional...           1   \n",
      "5                                             Message           1   \n",
      "6                                             Message           1   \n",
      "7                                             Message           1   \n",
      "8                        Message (URL), DropDownInput           3   \n",
      "9                             Can be more than 1 file           1   \n",
      "10  Message (Can be more than 2 depending on templ...           1   \n",
      "11  Data (List), Template (Multiline Text), Separa...           2   \n",
      "12  Data (List), Template (Multiline Text), Separa...           2   \n",
      "13                      Dropdown (Timezone Selection)           1   \n",
      "14  \\tMessageTextInput (Supports manual entry or r...           1   \n",
      "15                    Message (one is Tavily API Key)           2   \n",
      "16                                   MessageTextInput           1   \n",
      "17             Message (Channel URL, YouTube API Key)           1   \n",
      "18  Message (Video URL), DropDownInput (Chunk size...           2   \n",
      "19  Message (Video URL, Yotube API Key), DropDownI...           1   \n",
      "\n",
      "                                          Output type  \n",
      "0                                             Message  \n",
      "1                                                Data  \n",
      "2                                             Message  \n",
      "3                                             Message  \n",
      "4                                             Message  \n",
      "5                                             Message  \n",
      "6                                             Message  \n",
      "7                                             Message  \n",
      "8                              Data,Message,DataFrame  \n",
      "9                                                Data  \n",
      "10                                            Message  \n",
      "11  Message (Single), Data List (Formatted Data Ob...  \n",
      "12  Message (Single), Data List (Formatted Data Ob...  \n",
      "13               Message (Current Date & Time String)  \n",
      "14         Message (Returns generated ID as a string)  \n",
      "15  Data (Structured search results), Message (Tex...  \n",
      "16                     DataFrame (List of video URLs)  \n",
      "17                                          DataFrame  \n",
      "18            Dataframe(Chunks), Message (Transcript)  \n",
      "19                               DataFrame (Comments)  \n"
     ]
    }
   ],
   "source": [
    "df = pd.read_excel(r\"C:\\\\Users\\\\btuud\\\\Downloads\\\\Component_generator\\\\train_langflow_custom_component_data.xlsx\")\n",
    "print(df)"
   ]
  },
  {
   "cell_type": "markdown",
   "metadata": {},
   "source": [
    "1. Prepare Python data"
   ]
  },
  {
   "cell_type": "code",
   "execution_count": 31,
   "metadata": {},
   "outputs": [],
   "source": [
    "#Prepare python data to JSONL\n",
    "def convert_python_one_line(python_code):\n",
    "    jsonl_line = json.dumps(python_code, ensure_ascii=False)\n",
    "    return jsonl_line\n",
    "\n",
    "def convert_python_to_jsonl(python_code, description, num_input, input_type, num_output, output_type, output_file):\n",
    "    \n",
    "    prompt = f\"Generate a LangFlow custom component in python code that {description}. \"\n",
    "    prompt += f\"The component should have {num_input} {input_type} input\"\n",
    "    prompt += \"s\" if int(num_input) > 1 else \"\"\n",
    "    prompt += f\" and {num_output} {output_type} output\"\n",
    "    prompt += \"s\" if int(num_output) > 1 else \"\"\n",
    "    prompt += \".\"\n",
    "    python_code = convert_python_one_line(python_code)\n",
    "\n",
    "    example_case = {\"messages\":[{\"role\": \"system\", \"content\": \"You are a helpful assistant that generates LangFlow custom component python code based on user descriptions.\"},{\"role\": \"user\", \"content\": prompt}, {\"role\": \"assistant\", \"content\": python_code}]}\n",
    "\n",
    "    # Append the example case to the file\n",
    "    with open(output_file, 'a', encoding='utf-8') as f:\n",
    "        f.write(json.dumps(example_case) + '\\n')\n",
    "                    \n",
    "    return len(example_case)\n",
    "                    "
   ]
  },
  {
   "cell_type": "code",
   "execution_count": 28,
   "metadata": {},
   "outputs": [
    {
     "data": {
      "text/plain": [
       "1"
      ]
     },
     "execution_count": 28,
     "metadata": {},
     "output_type": "execute_result"
    }
   ],
   "source": [
    "output_file = \"python_code_prompt.jsonl\"\n",
    "sample_row = df.iloc[0]  # Get the first row as a Series\n",
    "\n",
    "convert_python_to_jsonl(\n",
    "    sample_row[\"Python Code\"], sample_row[\"Description\"], sample_row[\"Num Input\"],\n",
    "    sample_row[\"Input type\"], sample_row[\"Num Output\"], sample_row[\"Output type\"], output_file\n",
    ")"
   ]
  },
  {
   "cell_type": "code",
   "execution_count": null,
   "metadata": {},
   "outputs": [],
   "source": [
    "output_file = \"python_code_prompt.jsonl\"\n",
    "with open(output_file, \"w\", encoding=\"utf-8\") as f:\n",
    "    pass\n",
    "\n",
    "for code, des, num_input, input_type, num_output, output_type in zip(\n",
    "    df[\"Python Code\"], df[\"Description\"], df[\"Num Input\"],\n",
    "    df[\"Input type\"], df[\"Num Output\"], df[\"Output type\"]\n",
    "):\n",
    "    convert_python_to_jsonl(code, des, num_input, input_type, num_output, output_type, output_file)\n"
   ]
  },
  {
   "cell_type": "markdown",
   "metadata": {},
   "source": [
    "2. Code for Fine-tune Python JSONL"
   ]
  },
  {
   "cell_type": "code",
   "execution_count": null,
   "metadata": {},
   "outputs": [
    {
     "data": {
      "text/plain": [
       "FileObject(id='file-7i34QGeW3QmJhYX9QbVbSv', bytes=76135, created_at=1739858735, filename='python_code_prompt.jsonl', object='file', purpose='fine-tune', status='processed', status_details=None)"
      ]
     },
     "execution_count": 34,
     "metadata": {},
     "output_type": "execute_result"
    }
   ],
   "source": [
    "#Uploud to openai\n",
    "client = OpenAI(api_key = \"\")\n",
    "client.files.create(\n",
    "    file = open(\"python_code_prompt.jsonl\", \"rb\"),\n",
    "    purpose=\"fine-tune\"\n",
    ")"
   ]
  },
  {
   "cell_type": "code",
   "execution_count": 39,
   "metadata": {},
   "outputs": [
    {
     "data": {
      "text/plain": [
       "FineTuningJob(id='ftjob-2Ps63ZqGDvheKs9Wr0mGRApE', created_at=1739859105, error=Error(code=None, message=None, param=None), fine_tuned_model=None, finished_at=None, hyperparameters=Hyperparameters(n_epochs='auto', batch_size='auto', learning_rate_multiplier='auto'), model='gpt-4o-mini-2024-07-18', object='fine_tuning.job', organization_id='org-qCGDW63V9bnCi52O10lwRZlm', result_files=[], seed=1101403155, status='validating_files', trained_tokens=None, training_file='file-7i34QGeW3QmJhYX9QbVbSv', validation_file=None, estimated_finish=None, integrations=[], user_provided_suffix=None, method={'type': 'supervised', 'supervised': {'hyperparameters': {'batch_size': 'auto', 'learning_rate_multiplier': 'auto', 'n_epochs': 'auto'}}})"
      ]
     },
     "execution_count": 39,
     "metadata": {},
     "output_type": "execute_result"
    }
   ],
   "source": [
    "#Fine-tune the openai model \n",
    "client.fine_tuning.jobs.create(\n",
    "  training_file=\"file-7i34QGeW3QmJhYX9QbVbSv\",\n",
    "  model=\"gpt-4o-mini-2024-07-18\"\n",
    ") "
   ]
  },
  {
   "cell_type": "code",
   "execution_count": 41,
   "metadata": {},
   "outputs": [
    {
     "name": "stdout",
     "output_type": "stream",
     "text": [
      "FineTuningJob(id='ftjob-2Ps63ZqGDvheKs9Wr0mGRApE', created_at=1739859105, error=Error(code=None, message=None, param=None), fine_tuned_model='ft:gpt-4o-mini-2024-07-18:personal::B2BEJt6D', finished_at=1739859521, hyperparameters=Hyperparameters(n_epochs=5, batch_size=1, learning_rate_multiplier=1.8), model='gpt-4o-mini-2024-07-18', object='fine_tuning.job', organization_id='org-qCGDW63V9bnCi52O10lwRZlm', result_files=['file-2fztvUM2L8ETLpS9R3uZRu'], seed=1101403155, status='succeeded', trained_tokens=78165, training_file='file-7i34QGeW3QmJhYX9QbVbSv', validation_file=None, estimated_finish=None, integrations=[], user_provided_suffix=None, method={'type': 'supervised', 'supervised': {'hyperparameters': {'n_epochs': 5, 'batch_size': 1, 'learning_rate_multiplier': 1.8}}})\n"
     ]
    }
   ],
   "source": [
    "# Replace with your actual fine-tuning job ID\n",
    "fine_tune_job_id = \"ftjob-2Ps63ZqGDvheKs9Wr0mGRApE\"\n",
    "# 0.23$\n",
    "# Retrieve job status\n",
    "job_status = client.fine_tuning.jobs.retrieve(fine_tune_job_id)\n",
    "print(job_status)"
   ]
  },
  {
   "cell_type": "markdown",
   "metadata": {},
   "source": [
    "3. Test Python JSONL "
   ]
  },
  {
   "cell_type": "code",
   "execution_count": 52,
   "metadata": {},
   "outputs": [
    {
     "name": "stdout",
     "output_type": "stream",
     "text": [
      "You can create a custom component in LangFlow to multiply two numbers by following the structure of the provided example. Below is the code that demonstrates how to implement a `CustomComponent` named `\"Multiplier\"`. \n",
      "\n",
      "Here's the code:\n",
      "\n",
      "```python\n",
      "from langflow.field_typing import Data\n",
      "from langflow.custom import Component\n",
      "from langflow.io import MessageTextInput, Output\n",
      "from langflow.schema import Data\n",
      "\n",
      "\n",
      "class MultiplierComponent(Component):\n",
      "    display_name = \"Multiplier\"\n",
      "    description = \"Multiplies two numbers.\"\n",
      "    icon = \"calculator\"\n",
      "    name = \"MultiplierComponent\"\n",
      "\n",
      "    inputs = [\n",
      "        MessageTextInput(\n",
      "            name=\"input_a\",\n",
      "            display_name=\"Input A\",\n",
      "            info=\"First number to multiply.\",\n",
      "            value=\"1\",\n",
      "            tool_mode=True,\n",
      "        ),\n",
      "        MessageTextInput(\n",
      "            name=\"input_b\",\n",
      "            display_name=\"Input B\",\n",
      "            info=\"Second number to multiply.\",\n",
      "            value=\"1\",\n",
      "            tool_mode=True,\n",
      "        ),\n",
      "    ]\n",
      "\n",
      "    outputs = [\n",
      "        Output(display_name=\"Output\", name=\"output\", method=\"build_output\"),\n",
      "    ]\n",
      "\n",
      "    def build_output(self) -> Data:\n",
      "        try:\n",
      "            result = float(self.input_a) * float(self.input_b)\n",
      "            data = Data(value=result)\n",
      "            self.status = data\n",
      "            return data\n",
      "        except ValueError:\n",
      "            data = Data(value=\"Invalid input, please provide numbers.\")\n",
      "            self.status = data\n",
      "            return data\n",
      "        except Exception as e:\n",
      "            data = Data(value=str(e))\n",
      "            self.status = data\n",
      "            return data\n",
      "```\n",
      "\n",
      "### Explanation of the Code\n",
      "\n",
      "1. **Imports**: Similar to the provided example, the necessary imports are included for defining the component.\n",
      "   \n",
      "2. **Component Definition**: The class `MultiplierComponent` is defined, inheriting from `Component`.\n",
      "\n",
      "3. **Display Information**: Attributes such as `display_name`, `description`, and `icon` are set to define how the component appears in the UI.\n",
      "\n",
      "4. **Inputs**: The component has two text inputs, `input_a` and `input_b`, which are used to obtain the numbers to multiply.\n",
      "\n",
      "5. **Outputs**: The component produces one output named `output`, which is created by the `build_output` method.\n",
      "\n",
      "6. **Logic**: In the `build_output` method:\n",
      "   - It multiplies `input_a` and `input_b` after converting them to floats.\n",
      "   - If successful, it returns the result.\n",
      "   - If there's a `ValueError`, it responds that the input is invalid.\n",
      "   - Any other exceptions are caught and their messages are returned.\n",
      "\n",
      "### How to Use\n",
      "\n",
      "You can integrate this component into a LangFlow project. When you build a flow using this component, it will take two numbers as inputs and output their product.\n"
     ]
    }
   ],
   "source": [
    "#Test Python JSONL\n",
    "from openai import OpenAI\n",
    "\n",
    "client = OpenAI()\n",
    "\n",
    "prompt = '''Generate a LangFlow custom component in python code that multiplies 2 numbers. \n",
    "The component should have 2 Message inputs and 1 Message output. Here is an example of a Echo function:\n",
    "\"# from langflow.field_typing import Data\\nfrom langflow.custom import Component\\nfrom langflow.io import MessageTextInput, Output\\nfrom langflow.schema import Data\\n\\n\\nclass CustomComponent(Component):\\n    display_name = \\\"Custom Component\\\"\\n    description = \\\"Use as a template to create your own component.\\\"\\n    documentation: str = \\\"http://docs.langflow.org/components/custom\\\"\\n    icon = \\\"code\\\"\\n    name = \\\"CustomComponent\\\"\\n\\n    inputs = [\\n        MessageTextInput(\\n            name=\\\"input_value\\\",\\n            display_name=\\\"Input Value\\\",\\n            info=\\\"This is a custom component Input\\\",\\n            value=\\\"Hello, World!\\\",\\n            tool_mode=True,\\n        ),\\n    ]\\n\\n    outputs = [\\n        Output(display_name=\\\"Output\\\", name=\\\"output\\\", method=\\\"build_output\\\"),\\n    ]\\n\\n    def build_output(self) -> Data:\\n        data = Data(value=self.input_value)\\n        self.status = data\\n        return data\\n\",                       \n",
    "'''\n",
    "\n",
    "response = client.chat.completions.create(\n",
    "    model=\"ft:gpt-4o-mini-2024-07-18:personal::B2BEJt6D\",\n",
    "    messages=[{\"role\": \"user\", \"content\": prompt}]\n",
    ")\n",
    "\n",
    "print(response.choices[0].message.content)\n"
   ]
  },
  {
   "cell_type": "code",
   "execution_count": null,
   "metadata": {},
   "outputs": [
    {
     "name": "stdout",
     "output_type": "stream",
     "text": [
      "To create a custom component in LangFlow that extracts spoken content from YouTube videos and provides DataFrame output options, we will leverage the existing structure of a custom component. We'll make use of libraries like `youtube_transcript_api` for subtitles and `pandas` for structuring the output as a DataFrame.\n",
      "\n",
      "Here's how you would implement this:\n",
      "\n",
      "### CustomComponent.py\n",
      "\n",
      "```python\n",
      "from langflow.custom import Component\n",
      "from langflow.field_typing import Data\n",
      "from langflow.io import MessageTextInput, Output\n",
      "from langflow.schema import Data\n",
      "from youtube_transcript_api import YouTubeTranscriptApi\n",
      "from youtube_transcript_api.formatters import TextFormatter\n",
      "\n",
      "import pandas as pd\n",
      "\n",
      "class YouTubeTranscriptsComponent(Component):\n",
      "    display_name = \"YouTube Transcripts\"\n",
      "    description = \"Get transcripts from YouTube videos.\"\n",
      "    documentation: str = \"http://docs.langflow.org/components/custom\"\n",
      "    icon = \"youtube\"\n",
      "    name = \"YouTubeTranscripts\"\n",
      "\n",
      "    inputs = [\n",
      "        MessageTextInput(\n",
      "            name=\"youtube_url\",\n",
      "            display_name=\"YouTube URL\",\n",
      "            info=\"URL of the YouTube video.\",\n",
      "            tool_mode=True,\n",
      "        ),\n",
      "    ]\n",
      "\n",
      "    outputs = [\n",
      "        Output(display_name=\"Output\", name=\"output\", method=\"build_output\"),\n",
      "    ]\n",
      "\n",
      "    def _extract_video_id(self, url: str) -> str:\n",
      "        \"\"\"Extracts the YouTube video ID from various URL formats.\"\"\"\n",
      "        import re\n",
      "\n",
      "        patterns = {\n",
      "            \"youtube.com/watch?v=\": r\"(?<=watch\\?v=|\\/)([a-zA-Z0-9_-]{11})\",\n",
      "            \"youtu.be/\": r\"(?<=youtu.be\\/)([a-zA-Z0-9_-]{11})\",\n",
      "        }\n",
      "\n",
      "        for pattern, regex in patterns.items():\n",
      "            if pattern in url:\n",
      "                match = re.search(regex, url)\n",
      "                if match:\n",
      "                    return match.group(0)\n",
      "        return url\n",
      "\n",
      "    def build_output(self) -> Data:\n",
      "        \"\"\"Builds the output for the component.\"\"\"\n",
      "        try:\n",
      "            # Extract video ID from the URL\n",
      "            video_id = self._extract_video_id(self.youtube_url)\n",
      "\n",
      "            # Fetch transcripts using YouTubeTranscriptApi\n",
      "            transcript = YouTubeTranscriptApi.get_transcript(video_id)\n",
      "\n",
      "            # Convert transcript to DataFrame\n",
      "            df = pd.DataFrame(transcript)\n",
      "\n",
      "            # Format the DataFrame as a string (CSV format)\n",
      "            csv_data = df.to_csv(index=False)\n",
      "\n",
      "            # Create Data object with CSV data\n",
      "            data = Data(value=csv_data)\n",
      "            self.status = data\n",
      "            return data\n",
      "\n",
      "        except Exception as e:\n",
      "            data = Data(value=str(e))\n",
      "            self.status = data\n",
      "            return data\n",
      "```\n",
      "\n",
      "### Notes:\n",
      "- **Built-in Utilities**: We're using `pandas` to structure the transcript data we get from `YouTubeTranscriptApi` into a DataFrame.\n",
      "- **Error Handling**: Basic error handling is included to catch issues while fetching transcripts.\n",
      "- **Dynamic Video ID Extraction**: A method to extract the video ID from different YouTube URL formats has been included.\n",
      "- **Transcripts in Multiple Formats**: The output is provided as a CSV string representing the DataFrame, but this can be extended or altered based on requirements. \n",
      "\n",
      "### Dependencies:\n",
      "- Ensure that you have `youtube-transcript-api` and `pandas` installed in your environment:\n",
      "\n",
      "```bash\n",
      "pip install youtube-transcript-api pandas\n",
      "```\n",
      "\n",
      "This component can now be used in LangFlow to fetch and process YouTube video transcripts efficiently.\n"
     ]
    }
   ],
   "source": [
    "#Test Python JSONL\n",
    "from openai import OpenAI\n",
    "\n",
    "client = OpenAI()\n",
    "\n",
    "prompt = '''Generate a LangFlow custom component in python code that extracts spoken content from YouTube videos with DataFrame output options.\n",
    "The component should have 1 Message inputs  for URL and 1 Message output. Here is an example of a Echo function:\n",
    "\"# from langflow.field_typing import Data\\nfrom langflow.custom import Component\\nfrom langflow.io import MessageTextInput, Output\\nfrom langflow.schema import Data\\n\\n\\nclass CustomComponent(Component):\\n    display_name = \\\"Custom Component\\\"\\n    description = \\\"Use as a template to create your own component.\\\"\\n    documentation: str = \\\"http://docs.langflow.org/components/custom\\\"\\n    icon = \\\"code\\\"\\n    name = \\\"CustomComponent\\\"\\n\\n    inputs = [\\n        MessageTextInput(\\n            name=\\\"input_value\\\",\\n            display_name=\\\"Input Value\\\",\\n            info=\\\"This is a custom component Input\\\",\\n            value=\\\"Hello, World!\\\",\\n            tool_mode=True,\\n        ),\\n    ]\\n\\n    outputs = [\\n        Output(display_name=\\\"Output\\\", name=\\\"output\\\", method=\\\"build_output\\\"),\\n    ]\\n\\n    def build_output(self) -> Data:\\n        data = Data(value=self.input_value)\\n        self.status = data\\n        return data\\n\n",
    "'''\n",
    "\n",
    "response = client.chat.completions.create(\n",
    "    model=\"ft:gpt-4o-mini-2024-07-18:personal::B2BEJt6D\",\n",
    "    messages=[{\"role\": \"user\", \"content\": prompt}]\n",
    ")\n",
    "\n",
    "print(response.choices[0].message.content)\n"
   ]
  },
  {
   "cell_type": "markdown",
   "metadata": {},
   "source": [
    "Prepare json data"
   ]
  },
  {
   "cell_type": "code",
   "execution_count": null,
   "metadata": {},
   "outputs": [],
   "source": [
    "#Prepare JSON data to JSONL\n",
    "df_json = pd.read_excel(r\"C:\\\\Users\\\\btuud\\\\Downloads\\\\Component_generator\\\\train_langflow_custom_component_data.xlsx\")\n",
    "print(df_json)"
   ]
  },
  {
   "cell_type": "markdown",
   "metadata": {},
   "source": [
    "json2prompt"
   ]
  },
  {
   "cell_type": "code",
   "execution_count": 82,
   "metadata": {},
   "outputs": [],
   "source": [
    "def json_to_prompt(component_json, python_code, num_input, input_type, num_output, output_type, output_file):\n",
    "    python_code = convert_python_one_line(python_code)\n",
    "    #print(python_code)\n",
    "    prompt = f\"Generate a LangFlow component JSON for the python code that matches: {python_code}. Include {num_input} {input_type} input{'s' if int(num_input) > 1 else ''} and {num_output} {output_type} output{'s' if int(num_output) > 1 else ''}. Leave 'value' field empty.\"\n",
    "\n",
    "\n",
    "    example_case = {\"messages\":[{\"role\":\"system\",\"content\":\"Create LangFlow component JSON configurations matching Python implementations.\"},{\"role\":\"user\",\"content\":prompt},{\"role\":\"assistant\",\"content\":component_json}]}\n",
    "    # Append the example case to the file\n",
    "    #print(example_case)\n",
    "    with open(output_file, 'a', encoding='utf-8') as f:\n",
    "        f.write(json.dumps(example_case, ensure_ascii=False) + '\\n')\n",
    "    \n",
    "    return len(example_case)"
   ]
  },
  {
   "cell_type": "code",
   "execution_count": 80,
   "metadata": {},
   "outputs": [
    {
     "data": {
      "text/plain": [
       "1"
      ]
     },
     "execution_count": 80,
     "metadata": {},
     "output_type": "execute_result"
    }
   ],
   "source": [
    "output_file_json = \"json_prompt.jsonl\"\n",
    "with open(output_file_json, \"w\", encoding=\"utf-8\") as f:\n",
    "    pass \n",
    "sample_row = df_json.iloc[0]  # Get the first row as a Series\n",
    "#print(convert_python_one_line(sample_row[\"Python Code\"]))\n",
    "json_to_prompt(\n",
    "    sample_row[\"Component JSON\"],sample_row[\"Python Code\"], sample_row[\"Num Input\"],\n",
    "    sample_row[\"Input type\"] , sample_row[\"Num Output\"], sample_row[\"Output type\"],output_file_json \n",
    ")"
   ]
  },
  {
   "cell_type": "code",
   "execution_count": 83,
   "metadata": {},
   "outputs": [],
   "source": [
    "output_file_json = \"json_prompt.jsonl\"\n",
    "\n",
    "with open(output_file_json, \"w\", encoding=\"utf-8\") as f:\n",
    "    pass \n",
    "\n",
    "for component_json, python_code, num_input, input_type, num_ouput, out_put_type in zip(\n",
    "    df_json[\"Component JSON\"],df_json[\"Python Code\"], df_json[\"Num Input\"],\n",
    "    df_json[\"Input type\"] , df_json[\"Num Output\"], df_json[\"Output type\"] \n",
    "):\n",
    "    json_to_prompt(component_json, python_code, num_input, input_type, num_ouput, out_put_type, output_file_json)"
   ]
  },
  {
   "cell_type": "markdown",
   "metadata": {},
   "source": [
    "Test openAI"
   ]
  },
  {
   "cell_type": "code",
   "execution_count": null,
   "metadata": {},
   "outputs": [
    {
     "data": {
      "text/plain": [
       "FileObject(id='file-8zPGQYuATp51XQ3YT4YkKe', bytes=207204, created_at=1739948248, filename='json_prompt.jsonl', object='file', purpose='fine-tune', status='processed', status_details=None)"
      ]
     },
     "execution_count": 84,
     "metadata": {},
     "output_type": "execute_result"
    }
   ],
   "source": [
    "#Uploud to openai\n",
    "client = OpenAI(api_key = \"\")\n",
    "client.files.create(\n",
    "    file = open(\"json_prompt.jsonl\", \"rb\"),\n",
    "    purpose=\"fine-tune\"\n",
    ")"
   ]
  },
  {
   "cell_type": "code",
   "execution_count": 87,
   "metadata": {},
   "outputs": [
    {
     "data": {
      "text/plain": [
       "FineTuningJob(id='ftjob-8hXZFz1g20jVHQPGPsLGjoHk', created_at=1739948327, error=Error(code=None, message=None, param=None), fine_tuned_model=None, finished_at=None, hyperparameters=Hyperparameters(n_epochs='auto', batch_size='auto', learning_rate_multiplier='auto'), model='gpt-4o-mini-2024-07-18', object='fine_tuning.job', organization_id='org-qCGDW63V9bnCi52O10lwRZlm', result_files=[], seed=1633221412, status='validating_files', trained_tokens=None, training_file='file-8zPGQYuATp51XQ3YT4YkKe', validation_file=None, estimated_finish=None, integrations=[], user_provided_suffix=None, method={'type': 'supervised', 'supervised': {'hyperparameters': {'batch_size': 'auto', 'learning_rate_multiplier': 'auto', 'n_epochs': 'auto'}}})"
      ]
     },
     "execution_count": 87,
     "metadata": {},
     "output_type": "execute_result"
    }
   ],
   "source": [
    "#Fine-tune the openai model \n",
    "client.fine_tuning.jobs.create(\n",
    "  training_file=\"file-8zPGQYuATp51XQ3YT4YkKe\",\n",
    "  model=\"gpt-4o-mini-2024-07-18\"\n",
    ") "
   ]
  },
  {
   "cell_type": "code",
   "execution_count": 91,
   "metadata": {},
   "outputs": [
    {
     "name": "stdout",
     "output_type": "stream",
     "text": [
      "FineTuningJob(id='ftjob-8hXZFz1g20jVHQPGPsLGjoHk', created_at=1739948327, error=Error(code=None, message=None, param=None), fine_tuned_model=None, finished_at=None, hyperparameters=Hyperparameters(n_epochs=5, batch_size=1, learning_rate_multiplier=1.8), model='gpt-4o-mini-2024-07-18', object='fine_tuning.job', organization_id='org-qCGDW63V9bnCi52O10lwRZlm', result_files=[], seed=1633221412, status='running', trained_tokens=None, training_file='file-8zPGQYuATp51XQ3YT4YkKe', validation_file=None, estimated_finish=1739948649, integrations=[], user_provided_suffix=None, method={'type': 'supervised', 'supervised': {'hyperparameters': {'n_epochs': 5, 'batch_size': 1, 'learning_rate_multiplier': 1.8}}})\n"
     ]
    }
   ],
   "source": [
    "# Replace with your actual fine-tuning job ID\n",
    "fine_tune_job_id = \"ftjob-8hXZFz1g20jVHQPGPsLGjoHk\"\n",
    "# 0.40$\n",
    "# Retrieve job status\n",
    "job_status = client.fine_tuning.jobs.retrieve(fine_tune_job_id)\n",
    "print(job_status)"
   ]
  },
  {
   "cell_type": "code",
   "execution_count": 93,
   "metadata": {},
   "outputs": [
    {
     "name": "stdout",
     "output_type": "stream",
     "text": [
      "{\"data\":{\"edges\":[],\"nodes\":[{\"data\":{\"node\":{\"template\":{\"_type\":\"Component\",\"code\":{\"type\":\"code\",\"required\":true,\"placeholder\":\"\",\"list\":false,\"show\":true,\"multiline\":true,\"value\":\"def run(input_a: str, input_b: str) -> str:\\n    \\\"\\\"\\\"Takes two inputs and returns their sum as a chat message\\\"\\\"\\\"\\n    return str(int(input_a) + int(input_b))\\n\",\"fileTypes\":[],\"file_path\":\"\",\"password\":false,\"name\":\"code\",\"advanced\":true,\"dynamic\":true,\"info\":\"\",\"load_from_db\":false,\"title_case\":false},\"input_a\":{\"tool_mode\":true,\"trace_as_input\":true,\"trace_as_metadata\":true,\"load_from_db\":false,\"list\":false,\"required\":false,\"placeholder\":\"\",\"show\":true,\"name\":\"input_a\",\"value\":\"\",\"display_name\":\"Input A\",\"advanced\":false,\"input_types\":[\"Message\"],\"dynamic\":false,\"info\":\"First number to add\",\"title_case\":false,\"type\":\"str\",\"_input_type\":\"MessageTextInput\"},\"input_b\":{\"tool_mode\":true,\"trace_as_input\":true,\"trace_as_metadata\":true,\"load_from_db\":false,\"list\":false,\"required\":false,\"placeholder\":\"\",\"show\":true,\"name\":\"input_b\",\"value\":\"\",\"display_name\":\"Input B\",\"advanced\":false,\"input_types\":[\"Message\"],\"dynamic\":false,\"info\":\"Second number to add\",\"title_case\":false,\"type\":\"str\",\"_input_type\":\"MessageTextInput\"}},\"description\":\"Takes two inputs and returns their sum as a chat message\",\"icon\":\"calculator\",\"base_classes\":[\"Message\"],\"display_name\":\"A + B\",\"documentation\":\"http://docs.langflow.org/components/custom\",\"custom_fields\":{},\"output_types\":[],\"pinned\":false,\"conditional_paths\":[],\"frozen\":false,\"outputs\":[{\"types\":[\"Message\"],\"selected\":\"Message\",\"name\":\"message\",\"display_name\":\"Message\",\"method\":\"build_output\",\"value\":\"__UNDEFINED__\",\"cache\":true}],\"field_order\":[\"input_a\",\"input_b\"],\"beta\":false,\"legacy\":false,\"edited\":true,\"metadata\":{},\"tool_mode\":false,\"lf_version\":\"1.1.1\",\"official\":false},\"type\":\"CustomComponent\",\"id\":\"CustomComponent-6zrlw\"},\"id\":\"CustomComponent-6zrlw\",\"position\":{\"x\":0,\"y\":0},\"type\":\"genericNode\"}],\"viewport\":{\"x\":1,\"y\":1,\"zoom\":1}},\"description\":\"Takes two inputs and returns their sum as a chat message\",\"name\":\"A + B\",\"id\":\"CustomComponent-6zrlw\",\"is_component\":true,\"last_tested_version\":\"1.1.1\"}\n"
     ]
    }
   ],
   "source": [
    "#Test Python JSONL\n",
    "from openai import OpenAI\n",
    "\n",
    "client = OpenAI()\n",
    "#0.01$\n",
    "prompt = '''Generate a LangFlow component JSON for {\"data\":{\"edges\":[],\"nodes\":[{\"data\":{\"node\":{\"template\":{\"_type\":\"Component\",\"code\":{\"type\":\"code\",\"required\":true,\"placeholder\":\"\",\"list\":false,\"show\":true,\"multiline\":true,\"value\":\"\",\"fileTypes\":[],\"file_path\":\"\",\"password\":false,\"name\":\"code\",\"advanced\":true,\"dynamic\":true,\"info\":\"\",\"load_from_db\":false,\"title_case\":false},\"input_a\":{\"tool_mode\":true,\"trace_as_input\":true,\"trace_as_metadata\":true,\"load_from_db\":false,\"list\":false,\"required\":false,\"placeholder\":\"\",\"show\":true,\"name\":\"input_a\",\"value\":\"\",\"display_name\":\"Input A\",\"advanced\":false,\"input_types\":[\"Message\"],\"dynamic\":false,\"info\":\"First number to add\",\"title_case\":false,\"type\":\"str\",\"_input_type\":\"MessageTextInput\"},\"input_b\":{\"tool_mode\":true,\"trace_as_input\":true,\"trace_as_metadata\":true,\"load_from_db\":false,\"list\":false,\"required\":false,\"placeholder\":\"\",\"show\":true,\"name\":\"input_b\",\"value\":\"\",\"display_name\":\"Input B\",\"advanced\":false,\"input_types\":[\"Message\"],\"dynamic\":false,\"info\":\"Second number to add\",\"title_case\":false,\"type\":\"str\",\"_input_type\":\"MessageTextInput\"}},\"description\":\"Takes two inputs and returns their sum as a chat message\",\"icon\":\"calculator\",\"base_classes\":[\"Message\"],\"display_name\":\"A + B\",\"documentation\":\"http://docs.langflow.org/components/custom\",\"custom_fields\":{},\"output_types\":[],\"pinned\":false,\"conditional_paths\":[],\"frozen\":false,\"outputs\":[{\"types\":[\"Message\"],\"selected\":\"Message\",\"name\":\"message\",\"display_name\":\"Message\",\"method\":\"build_output\",\"value\":\"__UNDEFINED__\",\"cache\":true}],\"field_order\":[\"input_a\",\"input_b\"],\"beta\":false,\"legacy\":false,\"edited\":true,\"metadata\":{},\"tool_mode\":false,\"lf_version\":\"1.1.1\",\"official\":false},\"type\":\"CustomComponent\",\"id\":\"CustomComponent-6zrlw\"},\"id\":\"CustomComponent-6zrlw\",\"position\":{\"x\":0,\"y\":0},\"type\":\"genericNode\"}],\"viewport\":{\"x\":1,\"y\":1,\"zoom\":1}},\"description\":\"Takes two inputs and returns their sum as a chat message\",\"name\":\"A + B\",\"id\":\"CustomComponent-6zrlw\",\"is_component\":true,\"last_tested_version\":\"1.1.1\"}.\n",
    "Include 2 Message inputs and 1 Message output. Leave 'value' field empty.\n",
    "'''\n",
    "\n",
    "response = client.chat.completions.create(\n",
    "    model=\"ft:gpt-4o-mini-2024-07-18:personal::B2YQNexS\",\n",
    "    messages=[{\"role\": \"user\", \"content\": prompt}]\n",
    ")\n",
    "\n",
    "print(response.choices[0].message.content)\n"
   ]
  }
 ],
 "metadata": {
  "kernelspec": {
   "display_name": "Python 3",
   "language": "python",
   "name": "python3"
  },
  "language_info": {
   "codemirror_mode": {
    "name": "ipython",
    "version": 3
   },
   "file_extension": ".py",
   "mimetype": "text/x-python",
   "name": "python",
   "nbconvert_exporter": "python",
   "pygments_lexer": "ipython3",
   "version": "3.12.6"
  }
 },
 "nbformat": 4,
 "nbformat_minor": 2
}
